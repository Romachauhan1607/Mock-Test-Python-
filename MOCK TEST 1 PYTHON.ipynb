{
 "cells": [
  {
   "cell_type": "code",
   "execution_count": 1,
   "id": "cfcb0e1b",
   "metadata": {},
   "outputs": [
    {
     "name": "stdout",
     "output_type": "stream",
     "text": [
      "[1, 2, 3, 45, 6, 7, 5, 0, 0, 0, 0, 0]\n"
     ]
    }
   ],
   "source": [
    "arr=[0,1,2,0,3,0,45,6,0,7,5,0]\n",
    "c=0\n",
    "for i in range(len(arr)):\n",
    "    if arr[i]!=0:\n",
    "        arr[c]=arr[i]\n",
    "        c +=1\n",
    "while c<(len(arr)):\n",
    "    arr[c]=0\n",
    "    c+=1\n",
    "print(arr)"
   ]
  },
  {
   "cell_type": "code",
   "execution_count": 18,
   "id": "07d5d331",
   "metadata": {},
   "outputs": [],
   "source": [
    "class Solution(object):\n",
    "    def firstUniqChar(self, s):\n",
    "        \"\"\"\n",
    "        :type s: str\n",
    "        :rtype: int\n",
    "        \"\"\"\n",
    "        for i in range(len(s)):\n",
    "            if s.count(s[i])==1:\n",
    "                return i\n",
    "        return -1"
   ]
  },
  {
   "cell_type": "code",
   "execution_count": null,
   "id": "8ee83024",
   "metadata": {},
   "outputs": [],
   "source": []
  }
 ],
 "metadata": {
  "kernelspec": {
   "display_name": "Python 3 (ipykernel)",
   "language": "python",
   "name": "python3"
  },
  "language_info": {
   "codemirror_mode": {
    "name": "ipython",
    "version": 3
   },
   "file_extension": ".py",
   "mimetype": "text/x-python",
   "name": "python",
   "nbconvert_exporter": "python",
   "pygments_lexer": "ipython3",
   "version": "3.9.12"
  }
 },
 "nbformat": 4,
 "nbformat_minor": 5
}
